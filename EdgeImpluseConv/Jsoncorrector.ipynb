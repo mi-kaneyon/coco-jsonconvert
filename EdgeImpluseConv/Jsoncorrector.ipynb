{
 "cells": [
  {
   "cell_type": "markdown",
   "id": "81c16b6d-5d48-4f7b-b86f-d2cafbce4f2a",
   "metadata": {},
   "source": [
    "# coco Json file check and correction"
   ]
  },
  {
   "cell_type": "code",
   "execution_count": 1,
   "id": "53deef74-09f3-4d0b-8c35-e531a0ea5542",
   "metadata": {},
   "outputs": [
    {
     "name": "stdout",
     "output_type": "stream",
     "text": [
      "COCO JSONファイルに以下の問題が見つかりました：\n",
      "必要なセクションが存在しません。\n"
     ]
    }
   ],
   "source": [
    "import json\n",
    "\n",
    "# ファイルを読み込む\n",
    "file_path = 'ei-cuphop-train-y.json'  # 自身のCOCO JSONファイルのパスに置き換えてください\n",
    "with open(file_path, 'r') as f:\n",
    "    data = json.load(f)\n",
    "\n",
    "def check_and_correct_json(data):\n",
    "    # データが正しいかどうかのフラグ\n",
    "    is_correct = True\n",
    "    error_messages = []\n",
    "    \n",
    "    # 必要なセクションが存在するかチェック\n",
    "    if not all(key in data for key in ['images', 'annotations', 'categories']):\n",
    "        is_correct = False\n",
    "        error_messages.append(\"必要なセクションが存在しません。\")\n",
    "        return is_correct, data, error_messages\n",
    "\n",
    "    # 'images', 'annotations', 'categories'が想定通りの形式であることをチェック\n",
    "    for img in data['images']:\n",
    "        if not all(key in img for key in ['file_name', 'height', 'width', 'id']):\n",
    "            is_correct = False\n",
    "            error_messages.append(f\"画像データに必要なキーが存在しません: {img}\")\n",
    "            \n",
    "    for anno in data['annotations']:\n",
    "        if not all(key in anno for key in ['segmentation', 'area', 'iscrowd', 'image_id', 'bbox', 'category_id', 'id']):\n",
    "            is_correct = False\n",
    "            error_messages.append(f\"アノテーションに必要なキーが存在しません: {anno}\")\n",
    "            \n",
    "    for cat in data['categories']:\n",
    "        if not all(key in cat for key in ['id', 'name']):\n",
    "            is_correct = False\n",
    "            error_messages.append(f\"カテゴリに必要なキーが存在しません: {cat}\")\n",
    "\n",
    "    # 'annotations'の各アノテーションが参照する'image_id'と'category_id'が存在することを確認\n",
    "    image_ids = [img['id'] for img in data['images']]\n",
    "    category_ids = [cat['id'] for cat in data['categories']]\n",
    "    for anno in data['annotations']:\n",
    "        if not anno['image_id'] in image_ids:\n",
    "            is_correct = False\n",
    "            error_messages.append(f\"存在しない'image_id'を参照しています: {anno}\")\n",
    "        if not anno['category_id'] in category_ids:\n",
    "            is_correct = False\n",
    "            error_messages.append(f\"存在しない'category_id'を参照しています: {anno}\")\n",
    "    \n",
    "    return is_correct, data, error_messages\n",
    "\n",
    "# チェックを実行\n",
    "is_correct, data, error_messages = check_and_correct_json(data)\n",
    "\n",
    "# 結果を表示\n",
    "if is_correct:\n",
    "    print(\"COCO JSONファイルは正しく構造化されています。\")\n",
    "else:\n",
    "    print(\"COCO JSONファイルに以下の問題が見つかりました：\")\n",
    "    for message in error_messages:\n",
    "        print(message)\n",
    "\n"
   ]
  },
  {
   "cell_type": "code",
   "execution_count": null,
   "id": "52d441ca-5c3c-4c72-afb7-000dc09fe5dc",
   "metadata": {},
   "outputs": [],
   "source": []
  }
 ],
 "metadata": {
  "kernelspec": {
   "display_name": "Python 3 (ipykernel)",
   "language": "python",
   "name": "python3"
  },
  "language_info": {
   "codemirror_mode": {
    "name": "ipython",
    "version": 3
   },
   "file_extension": ".py",
   "mimetype": "text/x-python",
   "name": "python",
   "nbconvert_exporter": "python",
   "pygments_lexer": "ipython3",
   "version": "3.7.16"
  }
 },
 "nbformat": 4,
 "nbformat_minor": 5
}
